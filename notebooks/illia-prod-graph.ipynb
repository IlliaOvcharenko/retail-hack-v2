{
 "cells": [
  {
   "cell_type": "code",
   "execution_count": 1,
   "id": "b967848f-610e-4e5c-a3a4-ee6e3cd53196",
   "metadata": {},
   "outputs": [],
   "source": [
    "%load_ext autoreload\n",
    "%autoreload 2"
   ]
  },
  {
   "cell_type": "code",
   "execution_count": 2,
   "id": "d64f6771-a47a-4a8a-bac0-270327e61c27",
   "metadata": {},
   "outputs": [
    {
     "name": "stdout",
     "output_type": "stream",
     "text": [
      "/Users/iovcharenko/notwork/proj/retail-hack\n"
     ]
    }
   ],
   "source": [
    "%cd .."
   ]
  },
  {
   "cell_type": "code",
   "execution_count": 71,
   "id": "49520086-799d-4a95-9bc9-c92b1869f156",
   "metadata": {},
   "outputs": [],
   "source": [
    "import pandas as pd\n",
    "import numpy as np\n",
    "import networkx as nx\n",
    "import matplotlib.pyplot as plt\n",
    "\n",
    "from tqdm.cli import tqdm\n",
    "from pathlib import Path\n",
    "from itertools import combinations"
   ]
  },
  {
   "cell_type": "code",
   "execution_count": 10,
   "id": "324b401f-e39f-4df2-9e3d-86f956423605",
   "metadata": {},
   "outputs": [],
   "source": [
    "data_folder = Path(\"data\")\n",
    "cheques_df = pd.read_csv(data_folder / \"cheques_public.csv\", sep=\";\")\n",
    "darkstore_df = pd.read_csv(data_folder / \"darkstore_map.csv\", sep=\";\")"
   ]
  },
  {
   "cell_type": "code",
   "execution_count": 59,
   "id": "32cab68f-5614-409e-86d8-fa5f57b90def",
   "metadata": {},
   "outputs": [
    {
     "name": "stderr",
     "output_type": "stream",
     "text": [
      "100%|█████████████████████████████████████████████| 5822/5822 [00:01<00:00, 5339.02it/s]\n"
     ]
    }
   ],
   "source": [
    "g = nx.Graph()\n",
    "\n",
    "for cheque_id, cheque_df in tqdm(cheques_df.groupby(\"CHEQUEID\", sort=True)):\n",
    "    for _, cheque_item in cheque_df.iterrows():\n",
    "        # print(cheque_item.LAGERID, cheque_item.KOLVO)\n",
    "        if g.has_node(cheque_item.LAGERID):\n",
    "            g.nodes[cheque_item.LAGERID][\"num_of_cheques\"] += 1\n",
    "            g.nodes[cheque_item.LAGERID][\"overall_amount\"] += cheque_item.KOLVO\n",
    "            \n",
    "        else:\n",
    "            node_info = { \n",
    "                \"num_of_cheques\": 1,\n",
    "                \"overall_amount\": cheque_item.KOLVO\n",
    "            }\n",
    "            g.add_node(cheque_item.LAGERID, **node_info)\n",
    "\n",
    "    produc_ids =  cheque_df.LAGERID.unique()\n",
    "    for prod_1, prod_2 in list(combinations(produc_ids, 2)):\n",
    "        if g.has_edge(prod_1, prod_2):\n",
    "            g.edges[prod_1, prod_2]['weight'] += 1\n",
    "        else:\n",
    "            g.add_edge(prod_1, prod_2, weight=1)\n"
   ]
  },
  {
   "cell_type": "code",
   "execution_count": 92,
   "id": "d5acfa7e-9c9b-4598-8213-26bbffbea51a",
   "metadata": {},
   "outputs": [
    {
     "data": {
      "text/plain": [
       "[(1.0, 2, {'weight': 8}),\n",
       " (1.0, 3, {'weight': 8}),\n",
       " (1.0, 4, {'weight': 4}),\n",
       " (1.0, 5, {'weight': 7}),\n",
       " (1.0, 6, {'weight': 2}),\n",
       " (1.0, 7, {'weight': 12}),\n",
       " (1.0, 8, {'weight': 3}),\n",
       " (1.0, 9, {'weight': 2}),\n",
       " (1.0, 10, {'weight': 4}),\n",
       " (1.0, 87, {'weight': 1})]"
      ]
     },
     "execution_count": 92,
     "metadata": {},
     "output_type": "execute_result"
    }
   ],
   "source": []
  },
  {
   "cell_type": "code",
   "execution_count": 95,
   "id": "2d053d1f-e59c-4c1a-886b-16db0f6c9baa",
   "metadata": {},
   "outputs": [],
   "source": [
    "# g.add_edge(1, 2)\n",
    "# g.add_edge(1, 3)\n",
    "# g.number_of_edges()\n",
    "# g.nodes[1]"
   ]
  },
  {
   "cell_type": "code",
   "execution_count": 93,
   "id": "4ea43e6e-f0e9-4e2e-87b8-6956d644a90f",
   "metadata": {},
   "outputs": [],
   "source": [
    "# plt.figure(figsize=(25, 25))\n",
    "# nx.draw(g, width=0.05, with_labels=True)"
   ]
  },
  {
   "cell_type": "code",
   "execution_count": 94,
   "id": "d17f8a89-873a-45de-aec2-94e3801fb34f",
   "metadata": {},
   "outputs": [],
   "source": [
    "# cheques_df.LAGERID.unique()"
   ]
  }
 ],
 "metadata": {
  "kernelspec": {
   "display_name": "Python 3 (ipykernel)",
   "language": "python",
   "name": "python3"
  },
  "language_info": {
   "codemirror_mode": {
    "name": "ipython",
    "version": 3
   },
   "file_extension": ".py",
   "mimetype": "text/x-python",
   "name": "python",
   "nbconvert_exporter": "python",
   "pygments_lexer": "ipython3",
   "version": "3.9.7"
  }
 },
 "nbformat": 4,
 "nbformat_minor": 5
}
